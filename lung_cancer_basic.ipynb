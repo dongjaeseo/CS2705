{
  "nbformat": 4,
  "nbformat_minor": 0,
  "metadata": {
    "colab": {
      "private_outputs": true,
      "provenance": [],
      "machine_shape": "hm",
      "mount_file_id": "1op2kKxTHouxusSMCnU7JTLruqZHDwNK8",
      "authorship_tag": "ABX9TyNOKZeBlYBK0OQnLNcPtPDu",
      "include_colab_link": true
    },
    "kernelspec": {
      "name": "python3",
      "display_name": "Python 3"
    },
    "language_info": {
      "name": "python"
    },
    "accelerator": "GPU"
  },
  "cells": [
    {
      "cell_type": "markdown",
      "metadata": {
        "id": "view-in-github",
        "colab_type": "text"
      },
      "source": [
        "<a href=\"https://colab.research.google.com/github/dongjaeseo/CS2705/blob/main/lung_cancer_basic.ipynb\" target=\"_parent\"><img src=\"https://colab.research.google.com/assets/colab-badge.svg\" alt=\"Open In Colab\"/></a>"
      ]
    },
    {
      "cell_type": "code",
      "execution_count": null,
      "metadata": {
        "id": "ZPSDO2KCBPR8"
      },
      "outputs": [],
      "source": [
        "import torch\n",
        "import numpy as np\n",
        "import matplotlib.pyplot as plt\n",
        "import cv2"
      ]
    },
    {
      "cell_type": "code",
      "source": [
        "class mask_image():\n",
        "    def __init__(self, image):\n",
        "        self.image = image\n",
        "        self.boundary = self.find_boundary()\n",
        "        self.cg = self.centroid()\n",
        "        self.theta_dict = self.theta()\n",
        "\n",
        "    def centroid(self):\n",
        "        row_sum = 0\n",
        "        column_sum = 0\n",
        "        count = 0\n",
        "        for i, row in enumerate(self.image):\n",
        "            for j, pixel in enumerate(row):\n",
        "                if pixel == 1:\n",
        "                    row_sum += i\n",
        "                    column_sum += j\n",
        "                    count += 1\n",
        "\n",
        "        if count == 0:\n",
        "            raise TypeError(\"Wrong image input: Only masked image of 0 and 1 is allowed\")\n",
        "\n",
        "        return column_sum/count, row_sum/count\n",
        "\n",
        "    def find_boundary(self):\n",
        "        boundary = []\n",
        "        for i, row in enumerate(self.image):\n",
        "            for j, pixel in enumerate(row):\n",
        "\n",
        "                if i != 0:\n",
        "                    if self.image[i-1][j] < pixel:\n",
        "                        boundary.append((j,i-0.5))\n",
        "                \n",
        "                if j != len(self.image[0])-1:\n",
        "                    if self.image[i][j+1] < pixel:\n",
        "                        boundary.append((j+0.5, i))\n",
        "                \n",
        "                if i != len(self.image)-1:\n",
        "                    if self.image[i+1][j] < pixel:\n",
        "                        boundary.append((j,i+0.5))\n",
        "\n",
        "                if j != 0:\n",
        "                    if self.image[i][j-1] < pixel:\n",
        "                        boundary.append((j-0.5, i))\n",
        "\n",
        "        return boundary\n",
        "    \n",
        "    def theta(self):\n",
        "        theta_boundary = {}\n",
        "        for bound in self.boundary:\n",
        "            theta = np.arctan(self.cg[0]-bound[0])/(bound[1]-self.cg[1])\n",
        "            # in 3rd and 4th quadrant // arctan (-pi, pi)\n",
        "            if bound[1]-self.cg[1] < 0:\n",
        "                theta += np.pi\n",
        "            theta_boundary.update({theta: bound})\n",
        "        \n",
        "        theta_boundary = dict(sorted(theta_boundary.items(), key=lambda item: item[0]))\n",
        "\n",
        "        return theta_boundary\n",
        "    \n",
        "    def find_dist(self):\n",
        "        distance = []\n",
        "        for bound in self.boundary:\n",
        "            dist = np.sqrt(np.square(bound[0]-self.cg[0]) + np.square(bound[1]-self.cg[1]))\n",
        "            distance.append(dist)\n",
        "        \n",
        "        return distance\n",
        "\n",
        "    def plot(self):\n",
        "        plt.imshow(self.image, cmap = 'gray')\n",
        "        for i in self.boundary:\n",
        "            plt.plot(i[0], i[1], marker = \"o\", markersize = 3, markeredgecolor = \"red\", markerfacecolor = \"green\")\n",
        "            plt.plot(self.cg[0], self.cg[1], marker = \"o\", markersize = 1, markeredgecolor = \"red\", markerfacecolor = \"green\")\n",
        "        plt.show()"
      ],
      "metadata": {
        "id": "1yAhnjhOTztq"
      },
      "execution_count": null,
      "outputs": []
    },
    {
      "cell_type": "code",
      "source": [
        "image1 = cv2.imread('/content/drive/MyDrive/project/mask2.png', 0)\n",
        "image1 = image1/ 255.\n",
        "image1 = np.where(image1 < 0.5, 0, 1)\n",
        "\n",
        "image1 = mask_image(image1)\n",
        "distance = image1.find_dist()\n",
        "print('distance: ')\n",
        "print(distance)\n",
        "\n",
        "theta_dict = image1.theta()\n",
        "print('\\ntheta - coordinate:')\n",
        "print(theta_dict)\n",
        "\n",
        "image1.plot()"
      ],
      "metadata": {
        "id": "55uvQ6sBVoOD"
      },
      "execution_count": null,
      "outputs": []
    }
  ]
}