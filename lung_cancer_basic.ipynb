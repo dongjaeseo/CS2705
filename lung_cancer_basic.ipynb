{
  "nbformat": 4,
  "nbformat_minor": 0,
  "metadata": {
    "colab": {
      "private_outputs": true,
      "provenance": [],
      "collapsed_sections": [],
      "machine_shape": "hm",
      "mount_file_id": "1op2kKxTHouxusSMCnU7JTLruqZHDwNK8",
      "authorship_tag": "ABX9TyO7EDvLDDiI+h5JkXv2ggWV",
      "include_colab_link": true
    },
    "kernelspec": {
      "name": "python3",
      "display_name": "Python 3"
    },
    "language_info": {
      "name": "python"
    },
    "accelerator": "GPU"
  },
  "cells": [
    {
      "cell_type": "markdown",
      "metadata": {
        "id": "view-in-github",
        "colab_type": "text"
      },
      "source": [
        "<a href=\"https://colab.research.google.com/github/dongjaeseo/CS2705/blob/main/lung_cancer_basic.ipynb\" target=\"_parent\"><img src=\"https://colab.research.google.com/assets/colab-badge.svg\" alt=\"Open In Colab\"/></a>"
      ]
    },
    {
      "cell_type": "code",
      "execution_count": null,
      "metadata": {
        "id": "ZPSDO2KCBPR8"
      },
      "outputs": [],
      "source": [
        "import torch\n",
        "import numpy as np\n",
        "import matplotlib.pyplot as plt\n",
        "import cv2\n",
        "import bisect"
      ]
    },
    {
      "cell_type": "code",
      "source": [
        "class mask_image():\n",
        "    def __init__(self, image):\n",
        "        self.image = image\n",
        "        self.boundary = self.find_boundary()\n",
        "        self.cg = self.centroid()\n",
        "        self.theta_dict = self.theta()\n",
        "        self.distance_theta = self.find_dist()\n",
        "\n",
        "    def centroid(self):\n",
        "        row_sum = 0\n",
        "        column_sum = 0\n",
        "        count = 0\n",
        "        for i, row in enumerate(self.image):\n",
        "            for j, pixel in enumerate(row):\n",
        "                if pixel == 1:\n",
        "                    row_sum += i\n",
        "                    column_sum += j\n",
        "                    count += 1\n",
        "\n",
        "        if count == 0:\n",
        "            raise TypeError(\"Wrong image input: Only masked image of 0 and 1 is allowed\")\n",
        "\n",
        "        return column_sum/count, row_sum/count\n",
        "\n",
        "    def find_boundary(self):\n",
        "        boundary = []\n",
        "        for i, row in enumerate(self.image):\n",
        "            for j, pixel in enumerate(row):\n",
        "\n",
        "                if i != 0:\n",
        "                    if self.image[i-1][j] < pixel:\n",
        "                        boundary.append((j,i-0.5))\n",
        "                \n",
        "                if j != len(self.image[0])-1:\n",
        "                    if self.image[i][j+1] < pixel:\n",
        "                        boundary.append((j+0.5, i))\n",
        "                \n",
        "                if i != len(self.image)-1:\n",
        "                    if self.image[i+1][j] < pixel:\n",
        "                        boundary.append((j,i+0.5))\n",
        "\n",
        "                if j != 0:\n",
        "                    if self.image[i][j-1] < pixel:\n",
        "                        boundary.append((j-0.5, i))\n",
        "\n",
        "        return boundary\n",
        "    \n",
        "    # Represent angle between [0, 2pi]\n",
        "    def theta(self):\n",
        "        theta_boundary = {}\n",
        "        for bound in self.boundary:\n",
        "            theta = np.arctan((self.cg[1]-bound[1])/(bound[0]-self.cg[0]))\n",
        "            # in 3rd and 4th quadrant // arctan (-pi/2, pi/2)\n",
        "            if bound[0] < self.cg[0]:\n",
        "                theta += np.pi\n",
        "            elif bound[1] > self.cg[1]:\n",
        "                theta += 2*np.pi\n",
        "            theta_boundary.update({theta: bound})\n",
        "        \n",
        "        theta_boundary = dict(sorted(theta_boundary.items(), key=lambda item: item[0]))\n",
        "\n",
        "        return theta_boundary\n",
        "    \n",
        "    def find_dist(self):\n",
        "        distance_theta = {}\n",
        "        for key, value in self.theta_dict.items():\n",
        "            dist = np.sqrt(np.square(value[0]-self.cg[0]) + np.square(value[1]-self.cg[1]))\n",
        "            distance_theta[key] = dist\n",
        "        \n",
        "        return distance_theta\n",
        "\n",
        "    def plot(self):\n",
        "        plt.imshow(self.image, cmap = 'gray')\n",
        "        for i in self.boundary:\n",
        "            plt.plot(i[0], i[1], marker = \"o\", markersize = 3, markeredgecolor = \"red\", markerfacecolor = \"green\")\n",
        "            plt.plot(self.cg[0], self.cg[1], marker = \"o\", markersize = 1, markeredgecolor = \"red\", markerfacecolor = \"green\")\n",
        "        plt.show()\n",
        "    \n",
        "    def plot_uniform(self, angle_degree):\n",
        "        plt.imshow(self.image, cmap = 'gray')\n",
        "        for key, value in self.theta_distance(angle_degree).items():\n",
        "            plt.plot(self.cg[0]+value*np.cos(key), self.cg[1]-value*np.sin(key), marker = \"o\", markersize = 3, markeredgecolor = \"red\", markerfacecolor = \"green\")\n",
        "            plt.plot(self.cg[0], self.cg[1], marker = \"o\", markersize = 1, markeredgecolor = \"red\", markerfacecolor = \"green\")\n",
        "        plt.show()\n",
        "\n",
        "    def theta_distance(self, angle_degree):\n",
        "        num = 360//angle_degree\n",
        "        theta_dist = {}\n",
        "        for i in range(num):\n",
        "            angle_rad = np.pi / 180. * i * angle_degree\n",
        "            \n",
        "            if self.distance_theta.get(angle_rad):\n",
        "                res = self.distance_theta.get(angle_rad)\n",
        "            else:\n",
        "                keys = list(self.distance_theta.keys())\n",
        "                self.distance_theta[min(keys)+ 2*np.pi] = self.distance_theta[min(keys)]\n",
        "                self.distance_theta[max(keys)- 2*np.pi] = self.distance_theta[max(keys)]\n",
        "                self.distance_theta = dict(sorted(self.distance_theta.items(), key=lambda item: item[0]))\n",
        "                \n",
        "                nx_theta = min([i for i in list(self.distance_theta.keys()) if i>angle_rad])\n",
        "                pv_theta = max([i for i in list(self.distance_theta.keys()) if i<angle_rad])\n",
        "                \n",
        "                next = self.distance_theta[nx_theta]\n",
        "                prev = self.distance_theta[pv_theta]\n",
        "\n",
        "                # Calculating the position of angle_rad between next and prev\n",
        "                slope = (prev*np.sin(pv_theta) - next*np.sin(nx_theta)) / (prev*np.cos(pv_theta) - next*np.cos(nx_theta))\n",
        "                temp = slope - np.tan(angle_rad)\n",
        "                temp = 1/temp\n",
        "                temp *= (prev*np.cos(pv_theta)*np.tan(angle_rad) - prev*np.sin(pv_theta))\n",
        "                temp += prev*np.cos(pv_theta)\n",
        "                res = temp / np.cos(angle_rad)\n",
        "\n",
        "            theta_dist[angle_rad] = res\n",
        "        \n",
        "        return theta_dist"
      ],
      "metadata": {
        "id": "1yAhnjhOTztq"
      },
      "execution_count": null,
      "outputs": []
    },
    {
      "cell_type": "code",
      "source": [
        "image1 = cv2.imread('/content/drive/MyDrive/project/mask2.png', 0)\n",
        "image1 = image1/ 255.\n",
        "image1 = np.where(image1 < 0.5, 0, 1)\n",
        "\n",
        "image1 = mask_image(image1)\n",
        "print(image1.theta_distance(60))\n",
        "image1.plot_uniform(8)"
      ],
      "metadata": {
        "id": "hDQ-Qd3NlQoD"
      },
      "execution_count": null,
      "outputs": []
    },
    {
      "cell_type": "code",
      "source": [
        "image1 = cv2.imread('/content/drive/MyDrive/project/mask3.png', 0)\n",
        "image1 = image1/ 255.\n",
        "image1 = np.where(image1 < 0.5, 0, 1)\n",
        "\n",
        "image1 = mask_image(image1)\n",
        "print(image1.theta_distance(60))\n",
        "image1.plot_uniform(2)"
      ],
      "metadata": {
        "id": "95ADJMb45xcb"
      },
      "execution_count": null,
      "outputs": []
    },
    {
      "cell_type": "code",
      "source": [
        "image1 = cv2.imread('/content/drive/MyDrive/project/mask2.png', 0)\n",
        "image1 = image1/ 255.\n",
        "image1 = np.where(image1 < 0.5, 0, 1)\n",
        "\n",
        "image1 = mask_image(image1)\n",
        "distance = image1.find_dist()\n",
        "\n",
        "theta_dict = image1.theta()\n",
        "\n",
        "print('distance: ')\n",
        "print(distance)\n",
        "\n",
        "theta_dict = image1.theta()\n",
        "print('\\ntheta - coordinate:')\n",
        "print(theta_dict)\n",
        "\n",
        "print('\\ncentroid: ', image1.centroid())\n",
        "image1.plot()"
      ],
      "metadata": {
        "id": "55uvQ6sBVoOD"
      },
      "execution_count": null,
      "outputs": []
    },
    {
      "cell_type": "code",
      "source": [
        "distance_theta = image1.find_dist()\n",
        "distance_theta"
      ],
      "metadata": {
        "id": "rfCRbFOzfoIU"
      },
      "execution_count": null,
      "outputs": []
    },
    {
      "cell_type": "code",
      "source": [
        "image1 = cv2.imread('/content/drive/MyDrive/project/mask1.png', 0)\n",
        "image1 = image1/ 255.\n",
        "image1 = np.where(image1 < 0.5, 0, 1)\n",
        "\n",
        "image1 = mask_image(image1)\n",
        "distance = image1.find_dist()\n",
        "\n",
        "theta_dict = image1.theta()\n",
        "\n",
        "print('distance: ')\n",
        "print(distance)\n",
        "\n",
        "theta_dict = image1.theta()\n",
        "print('\\ntheta - coordinate:')\n",
        "print(theta_dict)\n",
        "\n",
        "print('\\ncentroid: ', image1.centroid())\n",
        "image1.plot()\n",
        "\n",
        "distance_theta = image1.find_dist()\n",
        "distance_theta"
      ],
      "metadata": {
        "id": "Y1udLzhSgPjw"
      },
      "execution_count": null,
      "outputs": []
    },
    {
      "cell_type": "code",
      "source": [
        "image1 = cv2.imread('/content/drive/MyDrive/project/mask3.png', 0)\n",
        "image1 = image1/ 255.\n",
        "image1 = np.where(image1 < 0.5, 0, 1)\n",
        "\n",
        "image1 = mask_image(image1)\n",
        "distance = image1.find_dist()\n",
        "\n",
        "theta_dict = image1.theta()\n",
        "\n",
        "print('distance: ')\n",
        "print(distance)\n",
        "\n",
        "theta_dict = image1.theta()\n",
        "print('\\ntheta - coordinate:')\n",
        "print(theta_dict)\n",
        "\n",
        "print('\\ncentroid: ', image1.centroid())\n",
        "image1.plot()\n",
        "\n",
        "distance_theta = image1.find_dist()\n",
        "distance_theta"
      ],
      "metadata": {
        "id": "GjyNn8rQhBDl"
      },
      "execution_count": null,
      "outputs": []
    }
  ]
}